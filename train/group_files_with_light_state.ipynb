{
 "cells": [
  {
   "cell_type": "code",
   "execution_count": null,
   "metadata": {
    "collapsed": true
   },
   "outputs": [],
   "source": [
    "# get the input and output path\n",
    "input_path  = \"D:\\\\Projects\\\\SDC\\\\Term3\\\\Capstone-Project-SDC-Term3-P3-Udacity\\\\sim-recs\\\\src\\\\tl_detector\"\n",
    "output_path = \"D:\\\\Projects\\\\SDC\\\\Term3\\\\Capstone-Project-SDC-Term3-P3-Udacity\\\\sim-recs\\\\train\"\n",
    "\n",
    "n_classes = 4"
   ]
  },
  {
   "cell_type": "code",
   "execution_count": null,
   "metadata": {
    "collapsed": true
   },
   "outputs": [],
   "source": [
    "import os\n",
    "import glob\n",
    "from shutil import copyfile\n",
    "import datetime\n",
    "import json\n",
    "\n",
    "# print start time\n",
    "print (\"[INFO] program started on - \" + str(datetime.datetime.now()))\n",
    "\n",
    "# take all the images from the dataset\n",
    "image_paths = glob.glob(os.path.join(input_path, \"*.jpg\"))\n",
    "\n",
    "# traffic light class names\n",
    "class_names = [\"red\", \"orange\", \"green\", \"no\"]\n",
    "\n",
    "# change the current working directory\n",
    "if not os.path.exists(output_path):\n",
    "    os.makedirs(output_path)\n",
    "\n",
    "# loop over the class labels\n",
    "for label in range(n_classes):\n",
    "    output_label_path = os.path.join(output_path, class_names[label])\n",
    "    if not os.path.exists(output_label_path):\n",
    "        os.makedirs(output_label_path)\n",
    "    else:\n",
    "        output_file_list = glob.glob(os.path.join(output_label_path, \"*.*\"))\n",
    "        for f in output_file_list:\n",
    "            os.remove(f)\n",
    "\n",
    "# loop over the images in the dataset\n",
    "for image_path in image_paths:\n",
    "    filename_without_ext = os.path.splitext(image_path)[0]\n",
    "    basename = os.path.basename(image_path)\n",
    "    json_data = filename_without_ext + \".json\"\n",
    "    if os.path.isfile(json_data):\n",
    "        with open(json_data, 'r') as json_stream:\n",
    "            image_json_data = json.load(json_stream)\n",
    "            closest_light = image_json_data[\"closest_light\"]\n",
    "            state = closest_light[\"state\"]\n",
    "            diff = image_json_data[\"diff\"]\n",
    "            dest_path = None\n",
    "            if diff <= 250: # if close enough\n",
    "                dest_path = os.path.join(output_path, class_names[state], basename)\n",
    "            elif diff > 500: # if far away enough from traffic light, then classify as no traffic light\n",
    "                dest_path = os.path.join(output_path, class_names[3], basename)\n",
    "            if dest_path is not None:\n",
    "                copyfile(image_path, dest_path)\n",
    "                \n",
    "\n",
    "# print end time\n",
    "print (\"[INFO] program ended on - \" + str(datetime.datetime.now()))\n"
   ]
  }
 ],
 "metadata": {
  "kernelspec": {
   "display_name": "Python [default]",
   "language": "python",
   "name": "python3"
  },
  "language_info": {
   "codemirror_mode": {
    "name": "ipython",
    "version": 3
   },
   "file_extension": ".py",
   "mimetype": "text/x-python",
   "name": "python",
   "nbconvert_exporter": "python",
   "pygments_lexer": "ipython3",
   "version": "3.6.3"
  }
 },
 "nbformat": 4,
 "nbformat_minor": 2
}
