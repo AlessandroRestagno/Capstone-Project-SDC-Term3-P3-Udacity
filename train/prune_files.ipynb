{
 "cells": [
  {
   "cell_type": "code",
   "execution_count": 2,
   "metadata": {
    "collapsed": true
   },
   "outputs": [],
   "source": [
    "import os\n",
    "import glob\n",
    "\n",
    "jpg_folder = f\"D:/Projects/SDC/Term3/Capstone-Project-SDC-Term3-P3-Udacity/site-recs/final_train/no\"\n",
    "\n",
    "\n",
    "output_file_list = glob.glob(os.path.join(jpg_folder, \"*.jpg\"))\n",
    "for i, image_name in enumerate(output_file_list):\n",
    "    if i % 10 < 2:\n",
    "        os.remove(image_name)"
   ]
  },
  {
   "cell_type": "code",
   "execution_count": null,
   "metadata": {
    "collapsed": true
   },
   "outputs": [],
   "source": []
  }
 ],
 "metadata": {
  "kernelspec": {
   "display_name": "Python [conda env:really-sucks]",
   "language": "python",
   "name": "conda-env-really-sucks-py"
  },
  "language_info": {
   "codemirror_mode": {
    "name": "ipython",
    "version": 3
   },
   "file_extension": ".py",
   "mimetype": "text/x-python",
   "name": "python",
   "nbconvert_exporter": "python",
   "pygments_lexer": "ipython3",
   "version": "3.6.0"
  }
 },
 "nbformat": 4,
 "nbformat_minor": 2
}
