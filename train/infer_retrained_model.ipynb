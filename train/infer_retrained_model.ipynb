{
 "cells": [
  {
   "cell_type": "code",
   "execution_count": null,
   "metadata": {
    "collapsed": true
   },
   "outputs": [],
   "source": [
    "from __future__ import absolute_import\n",
    "from __future__ import division\n",
    "from __future__ import print_function\n",
    "\n",
    "import argparse\n",
    "\n",
    "import numpy as np\n",
    "import tensorflow as tf"
   ]
  },
  {
   "cell_type": "code",
   "execution_count": null,
   "metadata": {
    "collapsed": true
   },
   "outputs": [],
   "source": [
    "def load_graph(model_file):\n",
    "  graph = tf.Graph()\n",
    "  graph_def = tf.GraphDef()\n",
    "\n",
    "  with open(model_file, \"rb\") as f:\n",
    "    graph_def.ParseFromString(f.read())\n",
    "  with graph.as_default():\n",
    "    tf.import_graph_def(graph_def)\n",
    "\n",
    "  return graph\n",
    "\n",
    "\n",
    "def read_tensor_from_image_file(file_name,\n",
    "                                input_height=299,\n",
    "                                input_width=299,\n",
    "                                input_mean=0,\n",
    "                                input_std=255):\n",
    "  input_name = \"file_reader\"\n",
    "  output_name = \"normalized\"\n",
    "  file_reader = tf.read_file(file_name, input_name)\n",
    "  if file_name.endswith(\".png\"):\n",
    "    image_reader = tf.image.decode_png(\n",
    "        file_reader, channels=3, name=\"png_reader\")\n",
    "  elif file_name.endswith(\".gif\"):\n",
    "    image_reader = tf.squeeze(\n",
    "        tf.image.decode_gif(file_reader, name=\"gif_reader\"))\n",
    "  elif file_name.endswith(\".bmp\"):\n",
    "    image_reader = tf.image.decode_bmp(file_reader, name=\"bmp_reader\")\n",
    "  else:\n",
    "    image_reader = tf.image.decode_jpeg(\n",
    "        file_reader, channels=3, name=\"jpeg_reader\")\n",
    "  float_caster = tf.cast(image_reader, tf.float32)\n",
    "  dims_expander = tf.expand_dims(float_caster, 0)\n",
    "  resized = tf.image.resize_bilinear(dims_expander, [input_height, input_width])\n",
    "  normalized = tf.divide(tf.subtract(resized, [input_mean]), [input_std])\n",
    "  sess = tf.Session()\n",
    "  result = sess.run(normalized)\n",
    "\n",
    "  return result\n",
    "\n",
    "\n",
    "def load_labels(label_file):\n",
    "  label = []\n",
    "  proto_as_ascii_lines = tf.gfile.GFile(label_file).readlines()\n",
    "  for l in proto_as_ascii_lines:\n",
    "    label.append(l.rstrip())\n",
    "  return label"
   ]
  },
  {
   "cell_type": "code",
   "execution_count": null,
   "metadata": {
    "collapsed": true
   },
   "outputs": [],
   "source": [
    "input_folder=\"D:/Projects/SDC/Term3/Capstone-Project-SDC-Term3-P3-Udacity/sim-recs/src/tl_detector/\"\n",
    "model_file = \"/tmp/optimized_graph.pb\"\n",
    "input_height = 224\n",
    "input_width = 224\n",
    "input_mean = 0\n",
    "input_std = 255\n",
    "input_layer = \"Placeholder\"\n",
    "output_layer = \"final_result\"\n",
    "label_file = \"/tmp/output_labels.txt\"\n",
    "\n",
    "input_name = \"import/\" + input_layer\n",
    "output_name = \"import/\" + output_layer\n",
    "\n",
    "graph = load_graph(model_file)\n",
    "\n",
    "input_operation = graph.get_operation_by_name(input_name)\n",
    "output_operation = graph.get_operation_by_name(output_name)\n",
    "labels = load_labels(label_file)"
   ]
  },
  {
   "cell_type": "code",
   "execution_count": null,
   "metadata": {
    "collapsed": true
   },
   "outputs": [],
   "source": [
    "def inference(sess, input_tensor, input_operation, output_operation, labels):\n",
    "    results = sess.run(output_operation.outputs[0], {input_operation.outputs[0]: input_tensor})\n",
    "    results = np.squeeze(results)\n",
    "\n",
    "    top_indices = results.argsort()[-5:][::-1]\n",
    "#     for i in top_indices:\n",
    "#         print(labels[i], results[i])\n",
    "    return results, top_indices"
   ]
  },
  {
   "cell_type": "code",
   "execution_count": null,
   "metadata": {},
   "outputs": [],
   "source": [
    "%matplotlib inline\n",
    "\n",
    "import matplotlib\n",
    "import numpy as np\n",
    "import matplotlib.pyplot as plt\n",
    "import matplotlib.image as mpimg\n",
    "from random import shuffle\n",
    "import datetime\n",
    "import glob\n",
    "import os\n",
    "\n",
    "image_paths = glob.glob(os.path.join(input_folder, \"*.jpg\"))\n",
    "shuffle(image_paths)\n",
    "start_time = datetime.datetime.now()\n",
    "nr_images = 20\n",
    "fig, axes = plt.subplots(nrows=nr_images, ncols=1, figsize=(28, 8 * nr_images))\n",
    "\n",
    "image_tensors = []\n",
    "\n",
    "for i, image_name in enumerate(image_paths[:nr_images]):\n",
    "    image_tensors.append(read_tensor_from_image_file(\n",
    "        image_name,\n",
    "        input_height=input_height,\n",
    "        input_width=input_width,\n",
    "        input_mean=input_mean,\n",
    "        input_std=input_std))\n",
    "\n",
    "sorted_labels = []\n",
    "sorted_results = []\n",
    "\n",
    "print (\"[INFO] program started on - \" + str(start_time))\n",
    "with tf.Session(graph=graph) as sess:\n",
    "    for i, image_name in enumerate(image_paths[:nr_images]):\n",
    "        results, top_indices = inference(\n",
    "            sess=sess, \n",
    "            input_tensor=image_tensors[i], \n",
    "            input_operation=input_operation, \n",
    "            output_operation=output_operation,\n",
    "            labels=labels)\n",
    "        sorted_labels.append([ labels[j] for j in top_indices])\n",
    "        sorted_results.append([ results[j] for j in top_indices])\n",
    "\n",
    "end_time = datetime.datetime.now()\n",
    "time_diff = end_time - start_time\n",
    "print (f\"Time to run: {time_diff}\")\n",
    "        \n",
    "for i, image_name in enumerate(image_paths[:nr_images]):\n",
    "    img=mpimg.imread(image_name)\n",
    "    axes[i].imshow(img)\n",
    "    axes[i].set_title(f'Best guess: {sorted_labels[i][0]} with certainty {sorted_results[i][0]}')"
   ]
  },
  {
   "cell_type": "code",
   "execution_count": null,
   "metadata": {
    "collapsed": true
   },
   "outputs": [],
   "source": []
  }
 ],
 "metadata": {
  "kernelspec": {
   "display_name": "Python [default]",
   "language": "python",
   "name": "python3"
  },
  "language_info": {
   "codemirror_mode": {
    "name": "ipython",
    "version": 3
   },
   "file_extension": ".py",
   "mimetype": "text/x-python",
   "name": "python",
   "nbconvert_exporter": "python",
   "pygments_lexer": "ipython3",
   "version": "3.6.3"
  }
 },
 "nbformat": 4,
 "nbformat_minor": 2
}
